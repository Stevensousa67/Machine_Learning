{
 "cells": [
  {
   "cell_type": "markdown",
   "metadata": {},
   "source": [
    "# Describe your problem\n",
    "Based on the dataset shown below, briefly describe what $x$ and $y$ are in your data, and why it may be interesting to predict $y$ for a value of $x$ that is not in the training set."
   ]
  },
  {
   "cell_type": "markdown",
   "metadata": {},
   "source": []
  },
  {
   "cell_type": "markdown",
   "metadata": {},
   "source": [
    "# Enter or load your data\n",
    "Either enter your x and y training data directly here as numpy arrays, or load the data from file. If you choose the latter, make sure to include your data file in the submission.\n"
   ]
  },
  {
   "cell_type": "code",
   "execution_count": 1,
   "metadata": {},
   "outputs": [],
   "source": [
    "# Enter/load data here\n",
    "import numpy as np\n",
    "\n",
    "# the number of minutes it takes each student to get to school from home\n",
    "x = np.array([9,12,13,16,17,20,22,23])\n",
    "\n",
    "# the number of times that each student is late \n",
    "y= np.array([2,4,4,5,6,9,13,15])\n",
    "\n"
   ]
  },
  {
   "cell_type": "markdown",
   "metadata": {},
   "source": [
    "# Fit a linear regression model\n",
    "Fit a linear regression model to your data. You can either reuse the code from the problem you just completed, or you can use the [linear regression model from scikit learn](http://scikit-learn.org/stable/modules/generated/sklearn.linear_model.LinearRegression.html). "
   ]
  },
  {
   "cell_type": "code",
   "execution_count": 2,
   "metadata": {},
   "outputs": [
    {
     "data": {
      "text/plain": [
       "LinearRegression()"
      ]
     },
     "execution_count": 2,
     "metadata": {},
     "output_type": "execute_result"
    }
   ],
   "source": [
    "# Fit a linear regression model to your data\n",
    "from sklearn.linear_model import LinearRegression\n",
    "\n",
    "reg = LinearRegression()\n",
    "reg.fit(x.reshape(-1,1),y)\n"
   ]
  },
  {
   "cell_type": "markdown",
   "metadata": {},
   "source": [
    "# Plot the result\n",
    "Plot your data and the best fitting hypothesis."
   ]
  },
  {
   "cell_type": "code",
   "execution_count": 3,
   "metadata": {},
   "outputs": [],
   "source": [
    "# Code to generate your plot here\n",
    "%matplotlib inline\n",
    "import matplotlib.pyplot as plt\n",
    "\n",
    "# plotting the actual values (points)\n",
    "\n",
    "# predicting and plotting the linear regression model\n"
   ]
  },
  {
   "cell_type": "markdown",
   "metadata": {},
   "source": [
    "# Make a prediction for a new input value\n",
    "Use the learned hypothesis to make a prediction for an input value $x$ that was not in the data set. Briefly discuss the result in the context of the data set you chose. Does the prediction seem useful?"
   ]
  },
  {
   "cell_type": "code",
   "execution_count": 4,
   "metadata": {},
   "outputs": [],
   "source": [
    "# Code to make the prediction\n",
    "\n",
    "# using the model to predict how many times a student who takes 15 minutes to get to school is expected to be late\n"
   ]
  },
  {
   "cell_type": "markdown",
   "metadata": {},
   "source": []
  }
 ],
 "metadata": {
  "kernelspec": {
   "display_name": "Python 3 (ipykernel)",
   "language": "python",
   "name": "python3"
  },
  "language_info": {
   "codemirror_mode": {
    "name": "ipython",
    "version": 3
   },
   "file_extension": ".py",
   "mimetype": "text/x-python",
   "name": "python",
   "nbconvert_exporter": "python",
   "pygments_lexer": "ipython3",
   "version": "3.9.7"
  }
 },
 "nbformat": 4,
 "nbformat_minor": 1
}
